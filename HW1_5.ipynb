{
 "cells": [
  {
   "cell_type": "markdown",
   "id": "6e32e4d2",
   "metadata": {},
   "source": [
    "## Implement Naive Bayes Without Library"
   ]
  },
  {
   "cell_type": "markdown",
   "id": "e7c15209",
   "metadata": {},
   "source": [
    "<span style='font-family:B Nazanin'>\n",
    "در طبقه بند optimal ما correlation که بین ویژگی ها وجود دارد را در نظر می گیریم. از آنجا که این کار در ابعاد بالا ممکن نیست و باعث پیچیده شدن آن می شود٬ در نتیجه همه ویژگی ها را مستقل در نظر میگیریم در این صورت در فرمول بیز٬ احتمال هر کدام در هم ضرب می شود و اینکار را برای ما بسیار ساده می کند. به دلیل پیچیده شدن مسئله از پیاده سازی optimal اجتناب می کنیم.   \n",
    "   <br>\n",
    "    <br>\n",
    "    الف)\n",
    "    \n",
    "</span>"
   ]
  },
  {
   "cell_type": "code",
   "execution_count": 40,
   "id": "1a88fa5b",
   "metadata": {},
   "outputs": [],
   "source": [
    "import numpy as np \n",
    "import pandas as pd"
   ]
  },
  {
   "cell_type": "code",
   "execution_count": 41,
   "id": "f47b8eed",
   "metadata": {},
   "outputs": [
    {
     "data": {
      "text/html": [
       "<div>\n",
       "<style scoped>\n",
       "    .dataframe tbody tr th:only-of-type {\n",
       "        vertical-align: middle;\n",
       "    }\n",
       "\n",
       "    .dataframe tbody tr th {\n",
       "        vertical-align: top;\n",
       "    }\n",
       "\n",
       "    .dataframe thead th {\n",
       "        text-align: right;\n",
       "    }\n",
       "</style>\n",
       "<table border=\"1\" class=\"dataframe\">\n",
       "  <thead>\n",
       "    <tr style=\"text-align: right;\">\n",
       "      <th></th>\n",
       "      <th>mean_radius</th>\n",
       "      <th>mean_texture</th>\n",
       "      <th>mean_perimeter</th>\n",
       "      <th>mean_area</th>\n",
       "      <th>mean_smoothness</th>\n",
       "      <th>diagnosis</th>\n",
       "    </tr>\n",
       "  </thead>\n",
       "  <tbody>\n",
       "    <tr>\n",
       "      <th>0</th>\n",
       "      <td>17.99</td>\n",
       "      <td>10.38</td>\n",
       "      <td>122.80</td>\n",
       "      <td>1001.0</td>\n",
       "      <td>0.11840</td>\n",
       "      <td>0</td>\n",
       "    </tr>\n",
       "    <tr>\n",
       "      <th>1</th>\n",
       "      <td>20.57</td>\n",
       "      <td>17.77</td>\n",
       "      <td>132.90</td>\n",
       "      <td>1326.0</td>\n",
       "      <td>0.08474</td>\n",
       "      <td>0</td>\n",
       "    </tr>\n",
       "    <tr>\n",
       "      <th>2</th>\n",
       "      <td>19.69</td>\n",
       "      <td>21.25</td>\n",
       "      <td>130.00</td>\n",
       "      <td>1203.0</td>\n",
       "      <td>0.10960</td>\n",
       "      <td>0</td>\n",
       "    </tr>\n",
       "    <tr>\n",
       "      <th>3</th>\n",
       "      <td>11.42</td>\n",
       "      <td>20.38</td>\n",
       "      <td>77.58</td>\n",
       "      <td>386.1</td>\n",
       "      <td>0.14250</td>\n",
       "      <td>0</td>\n",
       "    </tr>\n",
       "    <tr>\n",
       "      <th>4</th>\n",
       "      <td>20.29</td>\n",
       "      <td>14.34</td>\n",
       "      <td>135.10</td>\n",
       "      <td>1297.0</td>\n",
       "      <td>0.10030</td>\n",
       "      <td>0</td>\n",
       "    </tr>\n",
       "    <tr>\n",
       "      <th>...</th>\n",
       "      <td>...</td>\n",
       "      <td>...</td>\n",
       "      <td>...</td>\n",
       "      <td>...</td>\n",
       "      <td>...</td>\n",
       "      <td>...</td>\n",
       "    </tr>\n",
       "    <tr>\n",
       "      <th>564</th>\n",
       "      <td>21.56</td>\n",
       "      <td>22.39</td>\n",
       "      <td>142.00</td>\n",
       "      <td>1479.0</td>\n",
       "      <td>0.11100</td>\n",
       "      <td>0</td>\n",
       "    </tr>\n",
       "    <tr>\n",
       "      <th>565</th>\n",
       "      <td>20.13</td>\n",
       "      <td>28.25</td>\n",
       "      <td>131.20</td>\n",
       "      <td>1261.0</td>\n",
       "      <td>0.09780</td>\n",
       "      <td>0</td>\n",
       "    </tr>\n",
       "    <tr>\n",
       "      <th>566</th>\n",
       "      <td>16.60</td>\n",
       "      <td>28.08</td>\n",
       "      <td>108.30</td>\n",
       "      <td>858.1</td>\n",
       "      <td>0.08455</td>\n",
       "      <td>0</td>\n",
       "    </tr>\n",
       "    <tr>\n",
       "      <th>567</th>\n",
       "      <td>20.60</td>\n",
       "      <td>29.33</td>\n",
       "      <td>140.10</td>\n",
       "      <td>1265.0</td>\n",
       "      <td>0.11780</td>\n",
       "      <td>0</td>\n",
       "    </tr>\n",
       "    <tr>\n",
       "      <th>568</th>\n",
       "      <td>7.76</td>\n",
       "      <td>24.54</td>\n",
       "      <td>47.92</td>\n",
       "      <td>181.0</td>\n",
       "      <td>0.05263</td>\n",
       "      <td>1</td>\n",
       "    </tr>\n",
       "  </tbody>\n",
       "</table>\n",
       "<p>569 rows × 6 columns</p>\n",
       "</div>"
      ],
      "text/plain": [
       "     mean_radius  mean_texture  mean_perimeter  mean_area  mean_smoothness  \\\n",
       "0          17.99         10.38          122.80     1001.0          0.11840   \n",
       "1          20.57         17.77          132.90     1326.0          0.08474   \n",
       "2          19.69         21.25          130.00     1203.0          0.10960   \n",
       "3          11.42         20.38           77.58      386.1          0.14250   \n",
       "4          20.29         14.34          135.10     1297.0          0.10030   \n",
       "..           ...           ...             ...        ...              ...   \n",
       "564        21.56         22.39          142.00     1479.0          0.11100   \n",
       "565        20.13         28.25          131.20     1261.0          0.09780   \n",
       "566        16.60         28.08          108.30      858.1          0.08455   \n",
       "567        20.60         29.33          140.10     1265.0          0.11780   \n",
       "568         7.76         24.54           47.92      181.0          0.05263   \n",
       "\n",
       "     diagnosis  \n",
       "0            0  \n",
       "1            0  \n",
       "2            0  \n",
       "3            0  \n",
       "4            0  \n",
       "..         ...  \n",
       "564          0  \n",
       "565          0  \n",
       "566          0  \n",
       "567          0  \n",
       "568          1  \n",
       "\n",
       "[569 rows x 6 columns]"
      ]
     },
     "execution_count": 41,
     "metadata": {},
     "output_type": "execute_result"
    }
   ],
   "source": [
    "breast= pd.read_csv('Data/Breast_cancer_data.csv')\n",
    "breast\n"
   ]
  },
  {
   "cell_type": "markdown",
   "id": "e486fa3c",
   "metadata": {},
   "source": [
    "<span style='font-family:B Nazanin'>\n",
    "    داده های مورد نظر را از فایل خوانده و در breast قرار می دهیم. سپس ۷۰ درصد داده ها را برای train و بقیه را برای test مدل نگه می داریم. ستون آخر که شامل مقدار واقعی label ها می باشد را جدا کرده و در متغیر y برای هر دو دسته قرار می دهیم.\n",
    "    </span>"
   ]
  },
  {
   "cell_type": "code",
   "execution_count": 42,
   "id": "5d75b2ae",
   "metadata": {},
   "outputs": [],
   "source": [
    "train = breast.sample(frac=0.7, random_state= 1).reset_index(drop=True)\n",
    "test = breast.drop(train.index).reset_index(drop=True)\n",
    "\n",
    "y_train = train['diagnosis']\n",
    "x_train = train.drop('diagnosis', axis = 1)\n",
    "\n",
    "y_test = test['diagnosis']\n",
    "x_test = test.drop('diagnosis', axis = 1)\n"
   ]
  },
  {
   "cell_type": "markdown",
   "id": "df3761e8",
   "metadata": {},
   "source": [
    "<span style='font-family:B Nazanin'>\n",
    "مقدار میانگین و انحراف از معیار را بر اساس داده های train برای هر یک از ویژگی ها به دست می آوریم. سپس کلاس هایی که وجود دارند را از دیتا استخراج کرده و برای هر کدام مقدار prior را محاسبه می کنیم.    \n",
    "</span>"
   ]
  },
  {
   "cell_type": "code",
   "execution_count": 43,
   "id": "51f40e29",
   "metadata": {},
   "outputs": [
    {
     "data": {
      "text/html": [
       "<div>\n",
       "<style scoped>\n",
       "    .dataframe tbody tr th:only-of-type {\n",
       "        vertical-align: middle;\n",
       "    }\n",
       "\n",
       "    .dataframe tbody tr th {\n",
       "        vertical-align: top;\n",
       "    }\n",
       "\n",
       "    .dataframe thead th {\n",
       "        text-align: right;\n",
       "    }\n",
       "</style>\n",
       "<table border=\"1\" class=\"dataframe\">\n",
       "  <thead>\n",
       "    <tr style=\"text-align: right;\">\n",
       "      <th></th>\n",
       "      <th>mean_radius</th>\n",
       "      <th>mean_texture</th>\n",
       "      <th>mean_perimeter</th>\n",
       "      <th>mean_area</th>\n",
       "      <th>mean_smoothness</th>\n",
       "    </tr>\n",
       "    <tr>\n",
       "      <th>diagnosis</th>\n",
       "      <th></th>\n",
       "      <th></th>\n",
       "      <th></th>\n",
       "      <th></th>\n",
       "      <th></th>\n",
       "    </tr>\n",
       "  </thead>\n",
       "  <tbody>\n",
       "    <tr>\n",
       "      <th>0</th>\n",
       "      <td>17.406779</td>\n",
       "      <td>21.373154</td>\n",
       "      <td>115.018725</td>\n",
       "      <td>970.490604</td>\n",
       "      <td>0.103011</td>\n",
       "    </tr>\n",
       "    <tr>\n",
       "      <th>1</th>\n",
       "      <td>12.263594</td>\n",
       "      <td>17.948434</td>\n",
       "      <td>78.853373</td>\n",
       "      <td>471.618876</td>\n",
       "      <td>0.092412</td>\n",
       "    </tr>\n",
       "  </tbody>\n",
       "</table>\n",
       "</div>"
      ],
      "text/plain": [
       "           mean_radius  mean_texture  mean_perimeter   mean_area  \\\n",
       "diagnosis                                                          \n",
       "0            17.406779     21.373154      115.018725  970.490604   \n",
       "1            12.263594     17.948434       78.853373  471.618876   \n",
       "\n",
       "           mean_smoothness  \n",
       "diagnosis                   \n",
       "0                 0.103011  \n",
       "1                 0.092412  "
      ]
     },
     "execution_count": 43,
     "metadata": {},
     "output_type": "execute_result"
    }
   ],
   "source": [
    "means = train.groupby('diagnosis').mean()\n",
    "means"
   ]
  },
  {
   "cell_type": "code",
   "execution_count": 44,
   "id": "8d765d78",
   "metadata": {},
   "outputs": [
    {
     "data": {
      "text/html": [
       "<div>\n",
       "<style scoped>\n",
       "    .dataframe tbody tr th:only-of-type {\n",
       "        vertical-align: middle;\n",
       "    }\n",
       "\n",
       "    .dataframe tbody tr th {\n",
       "        vertical-align: top;\n",
       "    }\n",
       "\n",
       "    .dataframe thead th {\n",
       "        text-align: right;\n",
       "    }\n",
       "</style>\n",
       "<table border=\"1\" class=\"dataframe\">\n",
       "  <thead>\n",
       "    <tr style=\"text-align: right;\">\n",
       "      <th></th>\n",
       "      <th>mean_radius</th>\n",
       "      <th>mean_texture</th>\n",
       "      <th>mean_perimeter</th>\n",
       "      <th>mean_area</th>\n",
       "      <th>mean_smoothness</th>\n",
       "    </tr>\n",
       "    <tr>\n",
       "      <th>diagnosis</th>\n",
       "      <th></th>\n",
       "      <th></th>\n",
       "      <th></th>\n",
       "      <th></th>\n",
       "      <th></th>\n",
       "    </tr>\n",
       "  </thead>\n",
       "  <tbody>\n",
       "    <tr>\n",
       "      <th>0</th>\n",
       "      <td>9.600704</td>\n",
       "      <td>13.592562</td>\n",
       "      <td>440.403314</td>\n",
       "      <td>118045.587884</td>\n",
       "      <td>0.000177</td>\n",
       "    </tr>\n",
       "    <tr>\n",
       "      <th>1</th>\n",
       "      <td>3.247434</td>\n",
       "      <td>14.600425</td>\n",
       "      <td>145.167931</td>\n",
       "      <td>18327.475408</td>\n",
       "      <td>0.000186</td>\n",
       "    </tr>\n",
       "  </tbody>\n",
       "</table>\n",
       "</div>"
      ],
      "text/plain": [
       "           mean_radius  mean_texture  mean_perimeter      mean_area  \\\n",
       "diagnosis                                                             \n",
       "0             9.600704     13.592562      440.403314  118045.587884   \n",
       "1             3.247434     14.600425      145.167931   18327.475408   \n",
       "\n",
       "           mean_smoothness  \n",
       "diagnosis                   \n",
       "0                 0.000177  \n",
       "1                 0.000186  "
      ]
     },
     "execution_count": 44,
     "metadata": {},
     "output_type": "execute_result"
    }
   ],
   "source": [
    "var = train.groupby('diagnosis').var()\n",
    "var"
   ]
  },
  {
   "cell_type": "code",
   "execution_count": 45,
   "id": "f5c09db8",
   "metadata": {},
   "outputs": [
    {
     "data": {
      "text/plain": [
       "diagnosis\n",
       "0    0.374372\n",
       "1    0.625628\n",
       "Name: mean_texture, dtype: float64"
      ]
     },
     "execution_count": 45,
     "metadata": {},
     "output_type": "execute_result"
    }
   ],
   "source": [
    "prior = (train.groupby('diagnosis').count()/len(train)).iloc[:,1]\n",
    "prior"
   ]
  },
  {
   "cell_type": "code",
   "execution_count": 46,
   "id": "90ecac51",
   "metadata": {},
   "outputs": [
    {
     "data": {
      "text/plain": [
       "array([0, 1])"
      ]
     },
     "execution_count": 46,
     "metadata": {},
     "output_type": "execute_result"
    }
   ],
   "source": [
    "classes = np.unique(train['diagnosis'])\n",
    "classes"
   ]
  },
  {
   "cell_type": "markdown",
   "id": "8b058b80",
   "metadata": {},
   "source": [
    "<span style = 'font-family: B Nazanin'>\n",
    "    از تابع normal برای محاسبه likelihood استفاده می کنیم :\n",
    "    </span>\n",
    "\n",
    "![image](https://miro.medium.com/max/1024/1*6h77xJ0Wd5xt8E2LPAi5PA.png)"
   ]
  },
  {
   "cell_type": "code",
   "execution_count": 47,
   "id": "40d47e3d",
   "metadata": {},
   "outputs": [],
   "source": [
    "def Normal(x, mean, var):\n",
    "    sd = np.sqrt(var)\n",
    "    pdf = (np.e ** (-0.5 * ((x - mean)/sd) ** 2) / (sd * np.sqrt(2 * np.pi)))\n",
    "    \n",
    "    return pdf"
   ]
  },
  {
   "cell_type": "markdown",
   "id": "8ea16495",
   "metadata": {},
   "source": [
    "<span style='font-family:B Nazanin'>\n",
    "    در تابع predict فرایند زیر را برای هر sample انجام می دهیم :\n",
    "    <br>\n",
    "    <br>\n",
    "    １.\tبه ازای هر ویژگی٬ کار های زیر را انجام می دهیم :\n",
    "    <br>\n",
    "    <br>\n",
    "    a.\tمقدار میانگین و انحراف از معیار را از دو متغیر means و var که در بالا محاسبه شد٫ استخراج می کنیم.\n",
    "    <br>\n",
    "    b.\tمقدار likelihood را با استفاده از تابع normal محاسبه می کنیم. (برای راحتی کار مقدار log را در نهایت به دست می آوردیم) در صورتی که مقدار likelihood برابر صفر باشد برای جلوگیری از صفر شدن کل احتمال آن را برابر با مقداری ناچیز قرار می دهیم.\n",
    "    <br>\n",
    "    <br>\n",
    "    2. حال همه مقادیر را با هم جمع کرده و مقدار prior را هم به آن اضافه می کنیم.\n",
    "    <br>\n",
    "    <br>\n",
    "    ３.\tاز بین مقادیر به دست آمده بیشتری مقدار را انتخاب می کنیم و label مربوطه را به نمونه خود اختصاص می دهیم.\n",
    "</span>\n",
    "\n",
    "![image](https://miro.medium.com/max/1400/1*8-DZUh-6xdqD-P9zXAJblA.png)"
   ]
  },
  {
   "cell_type": "code",
   "execution_count": 48,
   "id": "f65438f1",
   "metadata": {},
   "outputs": [],
   "source": [
    "def Predict(info):\n",
    "\n",
    "    predictions = []\n",
    "    \n",
    "    # Loop for each row data\n",
    "    for item in info.index:\n",
    "        \n",
    "        class_likelihood = []\n",
    "        instance = info.loc[item]\n",
    "        \n",
    "        # Loop for each class\n",
    "        for cls in classes:\n",
    "            \n",
    "            feature_likelihood = []\n",
    "            \n",
    "            # Calculate log(P(C)) or log(Prior)\n",
    "            \n",
    "            feature_likelihood.append(np.log(prior[cls]))\n",
    "            \n",
    "            # Loop for each feature\n",
    "            for col in x_train.columns:\n",
    "                \n",
    "                data = instance[col]\n",
    "                \n",
    "                # Find mean column in class cls\n",
    "                mean = means[col].loc[cls]\n",
    "                \n",
    "                # Find variance column in class cls\n",
    "                variance = var[col].loc[cls]\n",
    "                \n",
    "                likelihood = Normal(data, mean, variance)\n",
    "                \n",
    "                if likelihood != 0:\n",
    "                    \n",
    "                    #Calculate log Likelihood\n",
    "                    likelihood = np.log(likelihood)\n",
    "                else:\n",
    "                    # if value likelihood = 0 , we consider value of 1/length(train) (small amount)\n",
    "                    likelihood = 1/len(train)\n",
    "                \n",
    "                feature_likelihood.append(likelihood)\n",
    "             \n",
    "            # Calulate Posterior\n",
    "            total_likelihood = sum(feature_likelihood)\n",
    "            class_likelihood.append(total_likelihood)\n",
    "        \n",
    "        # Find the best class for instance\n",
    "        maxIndex = class_likelihood.index(max(class_likelihood))\n",
    "        prediction = classes[maxIndex]\n",
    "        predictions.append(prediction)\n",
    "        \n",
    "    return predictions\n",
    "            \n",
    "                \n",
    "                \n",
    "        "
   ]
  },
  {
   "cell_type": "code",
   "execution_count": 49,
   "id": "45a33517",
   "metadata": {},
   "outputs": [],
   "source": [
    "predict_train = Predict(x_train) \n",
    "predict_test = Predict(x_test)\n"
   ]
  },
  {
   "cell_type": "markdown",
   "id": "e3b76237",
   "metadata": {},
   "source": [
    "<span style='font-family:B Nazanin'>\n",
    "    ب)\n",
    "      </span>"
   ]
  },
  {
   "cell_type": "markdown",
   "id": "acbe23c8",
   "metadata": {},
   "source": [
    "<span style='font-family:B Nazanin'>\n",
    "    مقدار accuracy را مطابق فرمول زیر محاسبه می کنیم و همان طور که مشاهده می کنید بر روی داده های test دقت بسیار خوبی دار.\n",
    "    </span>\n",
    "\n",
    "![image](https://wikimedia.org/api/rest_v1/media/math/render/svg/f0453f2614cd29f5dd49c2c9a0ef807985128e9e)"
   ]
  },
  {
   "cell_type": "markdown",
   "id": "40ee4319",
   "metadata": {},
   "source": [
    "## Accuracy"
   ]
  },
  {
   "cell_type": "code",
   "execution_count": 53,
   "id": "d63be1d8",
   "metadata": {},
   "outputs": [],
   "source": [
    "def Accuracy(y, prediction):\n",
    "    y = np.array(y)\n",
    "    prediction = np.array(prediction)\n",
    "    true_predict = np.where(prediction == y, 1, 0)\n",
    "    \n",
    "    return (round(true_predict.sum()/len(true_predict), 4))*100\n",
    "    "
   ]
  },
  {
   "cell_type": "code",
   "execution_count": 54,
   "id": "0cea4c7e",
   "metadata": {},
   "outputs": [
    {
     "data": {
      "text/plain": [
       "94.15"
      ]
     },
     "execution_count": 54,
     "metadata": {},
     "output_type": "execute_result"
    }
   ],
   "source": [
    "Accuracy(y_test, predict_test)"
   ]
  },
  {
   "cell_type": "markdown",
   "id": "124863a0",
   "metadata": {},
   "source": [
    "<span style='font-family:B Nazanin'>\n",
    "مقدار precision را طبق فرمول زیر محاسبه می کنیم و همان طور که مشاهده می کنید با درصد خوبی توانسته ایم داده هایی که label مثبت دارند را پیش بینی کنیم.    \n",
    "</span>\n",
    "<br>\n",
    "<br>\n",
    "<span style = 'font-family:B Nazanin'>\n",
    "همچنین دقت recall نیز دارای درصد خوبی است و توانسته ایم داده هایی که واقعا label مثبت دارند را به خوبی تشخیص دهیم.    \n",
    "</span>\n",
    "\n",
    "![image](https://wikimedia.org/api/rest_v1/media/math/render/svg/d37e557b5bfc8de22afa8aad1c187a357ac81bdb)"
   ]
  },
  {
   "cell_type": "markdown",
   "id": "243d1d8c",
   "metadata": {},
   "source": [
    "## Precision"
   ]
  },
  {
   "cell_type": "code",
   "execution_count": 55,
   "id": "43cdbb18",
   "metadata": {},
   "outputs": [],
   "source": [
    "def Precision(y, prediction):\n",
    "    y = np.array(y)\n",
    "    prediction = np.array(prediction)\n",
    "    true_pos = np.where(prediction == y, y, 0)\n",
    "    return (round(true_pos.sum()/prediction.sum(),4))*100"
   ]
  },
  {
   "cell_type": "code",
   "execution_count": 56,
   "id": "6ee4cc09",
   "metadata": {},
   "outputs": [
    {
     "data": {
      "text/plain": [
       "96.21"
      ]
     },
     "execution_count": 56,
     "metadata": {},
     "output_type": "execute_result"
    }
   ],
   "source": [
    "Precision(y_test,predict_test)"
   ]
  },
  {
   "cell_type": "markdown",
   "id": "71bab497",
   "metadata": {},
   "source": [
    "## Recall"
   ]
  },
  {
   "cell_type": "code",
   "execution_count": 57,
   "id": "0df0e419",
   "metadata": {},
   "outputs": [],
   "source": [
    "def Recall(y, prediction):\n",
    "    y = np.array(y)\n",
    "    prediction = np.array(prediction)\n",
    "    true_pos = np.where(prediction == y, y, 0)\n",
    "    return (round(true_pos.sum()/y.sum(),4))*100"
   ]
  },
  {
   "cell_type": "code",
   "execution_count": 58,
   "id": "c5f85ee6",
   "metadata": {},
   "outputs": [
    {
     "data": {
      "text/plain": [
       "96.21"
      ]
     },
     "execution_count": 58,
     "metadata": {},
     "output_type": "execute_result"
    }
   ],
   "source": [
    "Recall(y_test, predict_test)"
   ]
  },
  {
   "cell_type": "markdown",
   "id": "d8c78c49",
   "metadata": {},
   "source": [
    "## Confusion Matrix"
   ]
  },
  {
   "cell_type": "markdown",
   "id": "a8ae8959",
   "metadata": {},
   "source": [
    "<span style='font-family:B Nazanin'>\n",
    "در  ماتریس آشقگی همان طور که مشاهده می کنید تشخیص های اشتباه ما بسیار کم بوده است و توانسته ایم اکثر نمونه ها را به درستی شناسایی کنیم    \n",
    "</span>"
   ]
  },
  {
   "cell_type": "code",
   "execution_count": 59,
   "id": "c467e556",
   "metadata": {},
   "outputs": [
    {
     "data": {
      "text/html": [
       "<div>\n",
       "<style scoped>\n",
       "    .dataframe tbody tr th:only-of-type {\n",
       "        vertical-align: middle;\n",
       "    }\n",
       "\n",
       "    .dataframe tbody tr th {\n",
       "        vertical-align: top;\n",
       "    }\n",
       "\n",
       "    .dataframe thead th {\n",
       "        text-align: right;\n",
       "    }\n",
       "</style>\n",
       "<table border=\"1\" class=\"dataframe\">\n",
       "  <thead>\n",
       "    <tr style=\"text-align: right;\">\n",
       "      <th></th>\n",
       "      <th>predict positive</th>\n",
       "      <th>predict negative</th>\n",
       "      <th>total</th>\n",
       "    </tr>\n",
       "  </thead>\n",
       "  <tbody>\n",
       "    <tr>\n",
       "      <th>actual positive</th>\n",
       "      <td>127</td>\n",
       "      <td>5</td>\n",
       "      <td>132</td>\n",
       "    </tr>\n",
       "    <tr>\n",
       "      <th>actual negative</th>\n",
       "      <td>5</td>\n",
       "      <td>34</td>\n",
       "      <td>39</td>\n",
       "    </tr>\n",
       "    <tr>\n",
       "      <th>total</th>\n",
       "      <td>132</td>\n",
       "      <td>39</td>\n",
       "      <td>171</td>\n",
       "    </tr>\n",
       "  </tbody>\n",
       "</table>\n",
       "</div>"
      ],
      "text/plain": [
       "                predict positive predict negative total\n",
       "actual positive              127                5   132\n",
       "actual negative                5               34    39\n",
       "total                        132               39   171"
      ]
     },
     "execution_count": 59,
     "metadata": {},
     "output_type": "execute_result"
    }
   ],
   "source": [
    "confusion = pd.DataFrame(columns=['predict positive','predict negative','total']\n",
    "                        , index= ['actual positive','actual negative','total'])\n",
    "\n",
    "y_test = np.array(y_test)\n",
    "predict_test = np.array(predict_test)\n",
    "true_pos = np.where(y_test == predict_test, y_test, 0)\n",
    "confusion.loc['actual positive','predict positive'] = true_pos.sum()\n",
    "confusion.loc['total','predict positive'] = predict_test.sum()\n",
    "confusion.loc['actual negative','predict positive'] = predict_test.sum() - true_pos.sum()\n",
    "confusion.loc['actual positive','total'] = y_test.sum()\n",
    "confusion.loc['actual negative', 'total'] = len(y_test) - y_test.sum()\n",
    "confusion.loc['actual positive','predict negative'] = y_test.sum() - true_pos.sum()\n",
    "true_neg = np.where(predict_test == y_test , 1 - y_test  , 0)\n",
    "confusion.loc['actual negative','predict negative'] = true_neg.sum()\n",
    "confusion.loc['total','predict negative'] = len(predict_test) - predict_test.sum()\n",
    "confusion['total']['total'] = len(predict_test)\n",
    "\n",
    "confusion\n"
   ]
  },
  {
   "cell_type": "markdown",
   "id": "fe68ede8",
   "metadata": {},
   "source": [
    "<span style='font-family:B Nazanin'>\n",
    "ج)    \n",
    "</span>"
   ]
  },
  {
   "cell_type": "markdown",
   "id": "86342962",
   "metadata": {},
   "source": [
    "## Implement Naive Bayes With Library"
   ]
  },
  {
   "cell_type": "code",
   "execution_count": 82,
   "id": "b9c0e0a0",
   "metadata": {},
   "outputs": [],
   "source": [
    "import pandas as pd\n",
    "import numpy as np\n",
    "from sklearn.naive_bayes import GaussianNB\n",
    "from sklearn.model_selection import train_test_split\n",
    "from sklearn.metrics import precision_score,recall_score,confusion_matrix, accuracy_score\n",
    "from sklearn.metrics import ConfusionMatrixDisplay\n",
    "import matplotlib.pyplot as plt"
   ]
  },
  {
   "cell_type": "code",
   "execution_count": 83,
   "id": "c6515bec",
   "metadata": {},
   "outputs": [
    {
     "data": {
      "text/html": [
       "<div>\n",
       "<style scoped>\n",
       "    .dataframe tbody tr th:only-of-type {\n",
       "        vertical-align: middle;\n",
       "    }\n",
       "\n",
       "    .dataframe tbody tr th {\n",
       "        vertical-align: top;\n",
       "    }\n",
       "\n",
       "    .dataframe thead th {\n",
       "        text-align: right;\n",
       "    }\n",
       "</style>\n",
       "<table border=\"1\" class=\"dataframe\">\n",
       "  <thead>\n",
       "    <tr style=\"text-align: right;\">\n",
       "      <th></th>\n",
       "      <th>mean_radius</th>\n",
       "      <th>mean_texture</th>\n",
       "      <th>mean_perimeter</th>\n",
       "      <th>mean_area</th>\n",
       "      <th>mean_smoothness</th>\n",
       "      <th>diagnosis</th>\n",
       "    </tr>\n",
       "  </thead>\n",
       "  <tbody>\n",
       "    <tr>\n",
       "      <th>0</th>\n",
       "      <td>17.99</td>\n",
       "      <td>10.38</td>\n",
       "      <td>122.80</td>\n",
       "      <td>1001.0</td>\n",
       "      <td>0.11840</td>\n",
       "      <td>0</td>\n",
       "    </tr>\n",
       "    <tr>\n",
       "      <th>1</th>\n",
       "      <td>20.57</td>\n",
       "      <td>17.77</td>\n",
       "      <td>132.90</td>\n",
       "      <td>1326.0</td>\n",
       "      <td>0.08474</td>\n",
       "      <td>0</td>\n",
       "    </tr>\n",
       "    <tr>\n",
       "      <th>2</th>\n",
       "      <td>19.69</td>\n",
       "      <td>21.25</td>\n",
       "      <td>130.00</td>\n",
       "      <td>1203.0</td>\n",
       "      <td>0.10960</td>\n",
       "      <td>0</td>\n",
       "    </tr>\n",
       "    <tr>\n",
       "      <th>3</th>\n",
       "      <td>11.42</td>\n",
       "      <td>20.38</td>\n",
       "      <td>77.58</td>\n",
       "      <td>386.1</td>\n",
       "      <td>0.14250</td>\n",
       "      <td>0</td>\n",
       "    </tr>\n",
       "    <tr>\n",
       "      <th>4</th>\n",
       "      <td>20.29</td>\n",
       "      <td>14.34</td>\n",
       "      <td>135.10</td>\n",
       "      <td>1297.0</td>\n",
       "      <td>0.10030</td>\n",
       "      <td>0</td>\n",
       "    </tr>\n",
       "    <tr>\n",
       "      <th>...</th>\n",
       "      <td>...</td>\n",
       "      <td>...</td>\n",
       "      <td>...</td>\n",
       "      <td>...</td>\n",
       "      <td>...</td>\n",
       "      <td>...</td>\n",
       "    </tr>\n",
       "    <tr>\n",
       "      <th>564</th>\n",
       "      <td>21.56</td>\n",
       "      <td>22.39</td>\n",
       "      <td>142.00</td>\n",
       "      <td>1479.0</td>\n",
       "      <td>0.11100</td>\n",
       "      <td>0</td>\n",
       "    </tr>\n",
       "    <tr>\n",
       "      <th>565</th>\n",
       "      <td>20.13</td>\n",
       "      <td>28.25</td>\n",
       "      <td>131.20</td>\n",
       "      <td>1261.0</td>\n",
       "      <td>0.09780</td>\n",
       "      <td>0</td>\n",
       "    </tr>\n",
       "    <tr>\n",
       "      <th>566</th>\n",
       "      <td>16.60</td>\n",
       "      <td>28.08</td>\n",
       "      <td>108.30</td>\n",
       "      <td>858.1</td>\n",
       "      <td>0.08455</td>\n",
       "      <td>0</td>\n",
       "    </tr>\n",
       "    <tr>\n",
       "      <th>567</th>\n",
       "      <td>20.60</td>\n",
       "      <td>29.33</td>\n",
       "      <td>140.10</td>\n",
       "      <td>1265.0</td>\n",
       "      <td>0.11780</td>\n",
       "      <td>0</td>\n",
       "    </tr>\n",
       "    <tr>\n",
       "      <th>568</th>\n",
       "      <td>7.76</td>\n",
       "      <td>24.54</td>\n",
       "      <td>47.92</td>\n",
       "      <td>181.0</td>\n",
       "      <td>0.05263</td>\n",
       "      <td>1</td>\n",
       "    </tr>\n",
       "  </tbody>\n",
       "</table>\n",
       "<p>569 rows × 6 columns</p>\n",
       "</div>"
      ],
      "text/plain": [
       "     mean_radius  mean_texture  mean_perimeter  mean_area  mean_smoothness  \\\n",
       "0          17.99         10.38          122.80     1001.0          0.11840   \n",
       "1          20.57         17.77          132.90     1326.0          0.08474   \n",
       "2          19.69         21.25          130.00     1203.0          0.10960   \n",
       "3          11.42         20.38           77.58      386.1          0.14250   \n",
       "4          20.29         14.34          135.10     1297.0          0.10030   \n",
       "..           ...           ...             ...        ...              ...   \n",
       "564        21.56         22.39          142.00     1479.0          0.11100   \n",
       "565        20.13         28.25          131.20     1261.0          0.09780   \n",
       "566        16.60         28.08          108.30      858.1          0.08455   \n",
       "567        20.60         29.33          140.10     1265.0          0.11780   \n",
       "568         7.76         24.54           47.92      181.0          0.05263   \n",
       "\n",
       "     diagnosis  \n",
       "0            0  \n",
       "1            0  \n",
       "2            0  \n",
       "3            0  \n",
       "4            0  \n",
       "..         ...  \n",
       "564          0  \n",
       "565          0  \n",
       "566          0  \n",
       "567          0  \n",
       "568          1  \n",
       "\n",
       "[569 rows x 6 columns]"
      ]
     },
     "execution_count": 83,
     "metadata": {},
     "output_type": "execute_result"
    }
   ],
   "source": [
    "breast = pd.read_csv('Data/Breast_cancer_data.csv')\n",
    "breast"
   ]
  },
  {
   "cell_type": "code",
   "execution_count": 84,
   "id": "9f171dc8",
   "metadata": {},
   "outputs": [],
   "source": [
    "x = breast.drop('diagnosis', axis=1)\n",
    "y = breast['diagnosis'].values\n"
   ]
  },
  {
   "cell_type": "markdown",
   "id": "51a89677",
   "metadata": {},
   "source": [
    "<span style='font-family:B Nazanin'>\n",
    "با استفاده از کتابخانه sklearn داده های test و train را ایجاد کرده و به مدل نرمال کتابخانه داده ایم. سپس برای بررسی میزان دقت مدل داده های تست را داده و میزان دقت آن را اندازه گرفته ایم.    \n",
    "</span>"
   ]
  },
  {
   "cell_type": "code",
   "execution_count": 85,
   "id": "d9db1828",
   "metadata": {},
   "outputs": [],
   "source": [
    "# Normalize\n",
    "x = (x - x.min())/(x.max() - x.min())\n"
   ]
  },
  {
   "cell_type": "code",
   "execution_count": 93,
   "id": "33b2ad23",
   "metadata": {},
   "outputs": [],
   "source": [
    "x_train, x_test, y_train, y_test = train_test_split(x, y, test_size=0.3, random_state=8)\n"
   ]
  },
  {
   "cell_type": "code",
   "execution_count": 94,
   "id": "b2d074fa",
   "metadata": {},
   "outputs": [],
   "source": [
    "model = GaussianNB()\n",
    "model.fit(x_train,y_train)\n",
    "y_predict = model.predict(x_test)"
   ]
  },
  {
   "cell_type": "markdown",
   "id": "676ae8ef",
   "metadata": {},
   "source": [
    "<span style='font-family:B Nazanin'>\n",
    "همان طور که مشاهده می کنید نتایج با اختلاف بسیار کمی با مدلی که خودمان در مرحله قبل ایجاد کردیم نزدیک است. بخشی از این اختلاف نیز ناشی از این است که نمونه های train با یکدیگر متفاوت است.    \n",
    "</span>"
   ]
  },
  {
   "cell_type": "markdown",
   "id": "44cbbacb",
   "metadata": {},
   "source": [
    "## Accuracy"
   ]
  },
  {
   "cell_type": "code",
   "execution_count": 106,
   "id": "e255263f",
   "metadata": {},
   "outputs": [
    {
     "name": "stdout",
     "output_type": "stream",
     "text": [
      "Accuracy in test data:92.98\n"
     ]
    }
   ],
   "source": [
    "print(f'Accuracy in test data:{round(accuracy_score(y_test,y_predict)*100,2)}')"
   ]
  },
  {
   "cell_type": "markdown",
   "id": "22d35b2d",
   "metadata": {},
   "source": [
    "## Precision"
   ]
  },
  {
   "cell_type": "code",
   "execution_count": 107,
   "id": "f2ff9b29",
   "metadata": {
    "scrolled": true
   },
   "outputs": [
    {
     "name": "stdout",
     "output_type": "stream",
     "text": [
      "Precision in test data:90.43\n"
     ]
    }
   ],
   "source": [
    "print(f'Precision in test data:{round(precision_score(y_test,y_predict)*100,2)}')"
   ]
  },
  {
   "cell_type": "markdown",
   "id": "2929321e",
   "metadata": {},
   "source": [
    "## Recall"
   ]
  },
  {
   "cell_type": "code",
   "execution_count": 108,
   "id": "e0471abc",
   "metadata": {},
   "outputs": [
    {
     "name": "stdout",
     "output_type": "stream",
     "text": [
      "Recall in test data:99.05\n"
     ]
    }
   ],
   "source": [
    "print(f'Recall in test data:{round(recall_score(y_test,y_predict)*100,2)}')"
   ]
  },
  {
   "cell_type": "markdown",
   "id": "6c495c22",
   "metadata": {},
   "source": [
    "## Confusion Matrix"
   ]
  },
  {
   "cell_type": "code",
   "execution_count": 98,
   "id": "02dbb381",
   "metadata": {},
   "outputs": [
    {
     "data": {
      "text/plain": [
       "array([[ 55,  11],\n",
       "       [  1, 104]])"
      ]
     },
     "execution_count": 98,
     "metadata": {},
     "output_type": "execute_result"
    }
   ],
   "source": [
    "cm = confusion_matrix(y_test,y_predict)\n",
    "cm"
   ]
  },
  {
   "cell_type": "markdown",
   "id": "27638018",
   "metadata": {},
   "source": [
    "<span style='font-family:B Nazanin'>\n",
    "همان طور که مشاهده می کنید اعداد روی قطر اصلی که برای ما بسیار مهم هستند پر رنگ است و سایر نقاط کم رنگ که این نشان از دقت بالای الگوریتم می باشد.   \n",
    "</span>"
   ]
  },
  {
   "cell_type": "code",
   "execution_count": 99,
   "id": "e6ee6779",
   "metadata": {},
   "outputs": [
    {
     "data": {
      "image/png": "[encoded data removed]",
      "text/plain": [
       "<Figure size 640x480 with 2 Axes>"
      ]
     },
     "metadata": {},
     "output_type": "display_data"
    }
   ],
   "source": [
    "label = [1,0]\n",
    "ConfusionMatrixDisplay(cm,display_labels=label).plot(cmap= plt.cm.Blues)\n",
    "plt.title('Confusion Matrix')\n",
    "plt.show()"
   ]
  },
  {
   "cell_type": "code",
   "execution_count": null,
   "id": "01af5b77",
   "metadata": {},
   "outputs": [],
   "source": []
  }
 ],
 "metadata": {
  "kernelspec": {
   "display_name": "Python 3 (ipykernel)",
   "language": "python",
   "name": "python3"
  },
  "language_info": {
   "codemirror_mode": {
    "name": "ipython",
    "version": 3
   },
   "file_extension": ".py",
   "mimetype": "text/x-python",
   "name": "python",
   "nbconvert_exporter": "python",
   "pygments_lexer": "ipython3",
   "version": "3.9.13"
  }
 },
 "nbformat": 4,
 "nbformat_minor": 5
}
